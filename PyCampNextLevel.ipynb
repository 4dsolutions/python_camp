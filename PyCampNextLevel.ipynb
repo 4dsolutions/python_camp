{
 "cells": [
  {
   "cell_type": "markdown",
   "metadata": {},
   "source": [
    "# PyCamp:  Next Level\n",
    "### Camp MightyMoose\n",
    "\n",
    "![bonfire](./PyCampEventListening/camping.png)"
   ]
  },
  {
   "cell_type": "markdown",
   "metadata": {},
   "source": [
    "# Camp Description (March - April 2020):\n",
    "\n",
    "This camp will show our students just how powerful Python can be! Campers will explore its terminal basics and learn how to find and understand Python packages to make any project they can imagine! Advanced topics will include AI (Artificial Intelligence), Database Operations, and more. Welcome to the real world of programming!\n",
    "\n",
    "#### Prerequisites:\n",
    "Previous Python experience or other text-based programing language (JavaScript, C#, etc.)"
   ]
  },
  {
   "cell_type": "markdown",
   "metadata": {},
   "source": [
    "## FAQ\n",
    "\n",
    "**Q**  What does FAQ mean?\n",
    "\n",
    "**A**  FAQ means Frequently Asked Questions\n",
    "\n",
    "**Q**: What IDE should I use?\n",
    "\n",
    "**A**: Try out a bunch!  The instructor will show you several.  Try Spyder, it comes with [Anaconda](https://www.anaconda.com/downloads).\n",
    "\n",
    "**Q**: What version of Python will we need?\n",
    "\n",
    "**A**: Python3 or later (not 2.7). I recommend getting Python from [Anaconda](https://www.anaconda.com/downloads) as we're going to be using Jupyter Notebooks and JupyterLab and these are included in that distro.\n",
    "\n",
    "**Q**: What if I'm home from school and want to learn calculus?\n",
    "\n",
    "**A**: Here's [a starting place](https://github.com/4dsolutions/School_of_Tomorrow/blob/master/stats_works.ipynb) (one of many).  Or lets just [plot some functions](PlotFunctions.ipynb).\n",
    "\n",
    "**Q**: Do I need Git?\n",
    "\n",
    "**A**: You will have a better experience if you can clone [this repo](https://github.com/4dsolutions/python_camp).  Then you can ```git pull``` future updates.  On Windows?  [Get git](https://gitforwindows.org/) here.\n",
    "\n",
    "**Q**: Who's a good Git teacher on Youtube?\n",
    "\n",
    "**A**: Daniel Shiffman is an excellent teacher on many subjects. Checkout his [Github for Poets playlist](https://www.youtube.com/playlist?list=PLRqwX-V7Uu6ZF9C0YMKuns9sLDzK6zoiV).\n",
    "\n",
    "**Q**: Who's a good Python teacher on Youtube?\n",
    "\n",
    "**A**: The Socratica channel has [many pithy Python videos](https://www.youtube.com/playlist?list=PLi01XoE8jYohWFPpC17Z-wWhPOSuh8Er-). Make your own?\n",
    "\n",
    "**Q**: Where's a good place to begin with data science?\n",
    "\n",
    "**A**: Follow [Jake Vanderplas](http://vanderplas.com/) and study his work.\n",
    "\n",
    "**Q**: I already have an older version of Python3 that's not Anaconda, will that be OK?\n",
    "\n",
    "**A**: In a BYOD camp we leave those decisions up to you.  You may be concerned that too many Pythons will leave you with [a tangle](https://xkcd.com/1987/).\n",
    "\n",
    "**Q**: I've already done some Object Oriented Programming (OOP), am I too advanced for this course?\n",
    "\n",
    "**A**: Do you know [how Python does OO](animals.py)?  Coding up ```animals.py``` is one of the many hikes.  We won't do them all.  Your instructor will get a sense of what hikes might work best, given who shows up in your group."
   ]
  },
  {
   "cell_type": "markdown",
   "metadata": {},
   "source": [
    "## DAY ONE\n",
    "\n",
    "Python is used for many purposes in many walks of life.\n",
    "\n",
    "We're going to tell stories around the campfire (share lore) and take hikes (work out, go places, see things, try stuff out).\n",
    "\n",
    "See **More Campfire Stories** at the end.\n",
    "\n",
    "### Example Workout (hike):\n",
    "\n",
    "* Create your Github account (if you don't already have one)\n",
    "\n",
    "* Fork this repo\n",
    "\n",
    "* Clone the forked repo (your copy) and change at will\n",
    "\n",
    "* Clone [this repo](https://github.com/4dsolutions/python_camp) (original) and ```git pull``` for future updates\n",
    "\n",
    "* Bookmark the [Git docs](https://git-scm.com/doc)\n",
    "\n",
    "* Download the Anaconda distro of Python\n",
    "\n",
    "[Looking for games](https://pypi.org/project/freegames/)?\n",
    "\n",
    "How about [Pygame](https://pygame.readthedocs.io/en/latest/)?  Repl.it lets you try it out.\n",
    "\n",
    "### Hike:\n",
    "\n",
    "Run, Fork, Port, Modify any / all of the following:\n",
    "\n",
    "* [PyCamp Screen Saver](https://repl.it/@kurner/PyCamp-Screen-Saver)\n",
    "\n",
    "* [PyCampEventListening](https://repl.it/@kurner/PyCampEventListening)\n",
    "\n",
    "* [FishyDemo2](https://repl.it/@kurner/FishyDemo2)\n",
    "\n",
    "If you get serious about Pygame, install it locally (e.g. through [PyCharm](https://www.jetbrains.com/pycharm/))."
   ]
  },
  {
   "cell_type": "markdown",
   "metadata": {},
   "source": [
    "### Examples of Python in Action\n",
    "\n",
    "* [Arbitrary Precision Computing](https://github.com/4dsolutions/Python5/blob/master/Extended%20Precision.ipynb) (e.g. \"pi to a thousand places\")\n",
    "\n",
    "* [A Library](https://github.com/4dsolutions/School_of_Tomorrow/blob/master/Flextegrity_Lattice.ipynb) for working with [POV-Ray](http://povray.org)\n",
    "\n",
    "* [A Flask website](http://thekirbster.pythonanywhere.com/)"
   ]
  },
  {
   "cell_type": "code",
   "execution_count": 1,
   "metadata": {},
   "outputs": [
    {
     "name": "stdout",
     "output_type": "stream",
     "text": [
      "2.718281828459045235360287471352662497757247093699959574966967627724076630353547594571382178525166427426107251017773537272944324338265727075159043553471000244537649931411462661698975357333166908648006\n"
     ]
    }
   ],
   "source": [
    "# Arbitrary Precision Demo\n",
    "\n",
    "# lets see if your calculator can keep up with Python\n",
    "\n",
    "import decimal\n",
    "\n",
    "with decimal.localcontext() as ctx:  # context manager\n",
    "    ctx.prec = 1000\n",
    "    n = decimal.Decimal(1e102)\n",
    "    e = (1 + 1/n) ** n  # euler's number as n->infinity\n",
    "    print(\"{}\".format(str(e)[:200]))"
   ]
  },
  {
   "cell_type": "markdown",
   "metadata": {},
   "source": [
    "Everyday mathematics comes alive in Python's Jupyter Notebooks"
   ]
  },
  {
   "cell_type": "code",
   "execution_count": 2,
   "metadata": {},
   "outputs": [],
   "source": [
    "from primes import *"
   ]
  },
  {
   "cell_type": "code",
   "execution_count": 3,
   "metadata": {},
   "outputs": [
    {
     "data": {
      "text/plain": [
       "True"
      ]
     },
     "execution_count": 3,
     "metadata": {},
     "output_type": "execute_result"
    }
   ],
   "source": [
    "isprime(11133995233)"
   ]
  },
  {
   "cell_type": "code",
   "execution_count": 4,
   "metadata": {},
   "outputs": [
    {
     "data": {
      "text/plain": [
       "(1, 7, 37, 11133995233)"
      ]
     },
     "execution_count": 4,
     "metadata": {},
     "output_type": "execute_result"
    }
   ],
   "source": [
    "factors(2883704765347)"
   ]
  },
  {
   "cell_type": "code",
   "execution_count": 5,
   "metadata": {},
   "outputs": [
    {
     "name": "stdout",
     "output_type": "stream",
     "text": [
      "Eliminating multiples of: 2\n",
      "Eliminating multiples of: 3\n",
      "Eliminating multiples of: 5\n",
      "Eliminating multiples of: 7\n",
      "Eliminating multiples of: 11\n",
      "Eliminating multiples of: 13\n",
      "Eliminating multiples of: 17\n",
      "Eliminating multiples of: 19\n",
      "Eliminating multiples of: 23\n",
      "Eliminating multiples of: 29\n",
      "Eliminating multiples of: 31\n",
      "[2, 3, 5, 7, 11, 13, 17, 19, 23, 29, 31, 37, 41, 43, 47, 53, 59, 61, 67, 71, 73, 79, 83, 89, 97, 101, 103, 107, 109, 113, 127, 131, 137, 139, 149, 151, 157, 163, 167, 173, 179, 181, 191, 193, 197, 199, 211, 223, 227, 229, 233, 239, 241, 251, 257, 263, 269, 271, 277, 281, 283, 293, 307, 311, 313, 317, 331, 337, 347, 349, 353, 359, 367, 373, 379, 383, 389, 397, 401, 409, 419, 421, 431, 433, 439, 443, 449, 457, 461, 463, 467, 479, 487, 491, 499, 503, 509, 521, 523, 541, 547, 557, 563, 569, 571, 577, 587, 593, 599, 601, 607, 613, 617, 619, 631, 641, 643, 647, 653, 659, 661, 673, 677, 683, 691, 701, 709, 719, 727, 733, 739, 743, 751, 757, 761, 769, 773, 787, 797, 809, 811, 821, 823, 827, 829, 839, 853, 857, 859, 863, 877, 881, 883, 887, 907, 911, 919, 929, 937, 941, 947, 953, 967, 971, 977, 983, 991, 997]\n"
     ]
    }
   ],
   "source": [
    "print(eratosthenes(1000))"
   ]
  },
  {
   "cell_type": "markdown",
   "metadata": {},
   "source": [
    "For further reading:\n",
    "\n",
    "* [The Calculator of Tomorrow:  Using Arbitrary Precision](https://medium.com/@kirbyurner/calculator-of-tomorrow-using-arbitrary-precision-8f219b0092d9)"
   ]
  },
  {
   "cell_type": "markdown",
   "metadata": {},
   "source": [
    "## DAY TWO\n",
    "\n",
    "Some of our skill building topics:\n",
    "\n",
    "* downloading and installing [packages](https://pypi.org/) with conda and [pip](https://pypi.org/project/freegames/)\n",
    "\n",
    "* importing modules and packages (understanding about ```__init__```)\n",
    "\n",
    "* Python and [Unicode](https://codepoints.net/) (printing ranges of unicode characters)\n",
    "\n",
    "* sys.argv and passing arguments from the command line\n",
    "\n",
    "* many number types in Python (including [3rd party](https://gmpy2.readthedocs.io/en/latest/))"
   ]
  },
  {
   "cell_type": "markdown",
   "metadata": {},
   "source": [
    "### Unicode Section\n",
    "\n",
    "Unicode includes almost all the characters needed to encode human languages. Python source code is usually in unicode but doesn't have to be.\n",
    "\n",
    "[Show Me the Characters! (Youtube)](https://youtu.be/Z_sl99D2a18)\n",
    "\n",
    "Not every browser font is ready to show them all.  Your IDE may also have some trouble showing the characters you want."
   ]
  },
  {
   "cell_type": "code",
   "execution_count": 6,
   "metadata": {},
   "outputs": [
    {
     "name": "stdout",
     "output_type": "stream",
     "text": [
      "$ python unicode_fun.py name\n",
      "where name is:\n",
      " --help -h all arabic emoji food greek hebrew korean\n",
      "\n"
     ]
    }
   ],
   "source": [
    "# calling python through the operating system\n",
    "! python -m unicode_fun"
   ]
  },
  {
   "cell_type": "code",
   "execution_count": 7,
   "metadata": {},
   "outputs": [
    {
     "name": "stdout",
     "output_type": "stream",
     "text": [
      "ځ ڂ ڃ ڄ څ چ ڇ ڈ ډ ڊ ڋ ڌ ڍ ڎ ڏ ڐ ڑ ڒ ړ ڔ ڕ ږ ڗ ژ ڙ ښ ڛ ڜ ڝ ڞ ڟ ڠ ڡ ڢ ڣ ڤ ڥ ڦ ڧ ڨ ک ڪ ګ ڬ ڭ ڮ\n",
      "\n"
     ]
    }
   ],
   "source": [
    "! python -m unicode_fun arabic"
   ]
  },
  {
   "cell_type": "code",
   "execution_count": 39,
   "metadata": {},
   "outputs": [
    {
     "name": "stdout",
     "output_type": "stream",
     "text": [
      "🍄 🍅 🍆 🍇 🍈 🍉 🍊 🍋 🍌 🍍 🍎 🍏 🍐 🍑 🍒 🍓 🍔 🍕 🍖 🍗 🍘 🍙 🍚 🍛 🍜 🍝 🍞 🍟 🍠 🍡 🍢 🍣 🍤 🍥 🍦 🍧 🍨 🍩 🍪 🍫 🍬 🍭 🍮 🍯 🍰 \n"
     ]
    }
   ],
   "source": [
    "! python -m unicode_fun food"
   ]
  },
  {
   "cell_type": "markdown",
   "metadata": {},
   "source": [
    "[monkey-face](http://unicode.org/emoji/charts/full-emoji-list.html#monkey-face)"
   ]
  },
  {
   "cell_type": "code",
   "execution_count": 37,
   "metadata": {},
   "outputs": [
    {
     "name": "stdout",
     "output_type": "stream",
     "text": [
      "🙈\n",
      "🙉\n",
      "🙊\n"
     ]
    }
   ],
   "source": [
    "three_wise_monkeys = [\"1F648\", \"1F649\",\"1F64A\"]\n",
    "for monkey in three_wise_monkeys:\n",
    "   print(chr(int(monkey, 16))) # see, hear, say no evil"
   ]
  },
  {
   "cell_type": "markdown",
   "metadata": {},
   "source": [
    "[face-unwell](http://unicode.org/emoji/charts/full-emoji-list.html#face-unwell)"
   ]
  },
  {
   "cell_type": "code",
   "execution_count": 38,
   "metadata": {},
   "outputs": [
    {
     "name": "stdout",
     "output_type": "stream",
     "text": [
      "😷\n"
     ]
    }
   ],
   "source": [
    "print(chr(int(\"1F637\", 16))) # masked face"
   ]
  },
  {
   "cell_type": "code",
   "execution_count": 9,
   "metadata": {},
   "outputs": [
    {
     "name": "stdout",
     "output_type": "stream",
     "text": [
      "Eating a meal of 1 things\n",
      "doggie doesn't feel well.\n",
      "🍜\n"
     ]
    }
   ],
   "source": [
    "import animals\n",
    "animals.test_dog()"
   ]
  },
  {
   "cell_type": "markdown",
   "metadata": {},
   "source": [
    "## DAY THREE\n",
    "\n",
    "#### Machine Learning\n",
    "\n",
    "Our toolkit: [scikit-learn](https://scikit-learn.org/stable/index.html)\n",
    "\n",
    "Lets use a fine specimen of [an on-line tutorial](https://www.codementor.io/@garethdwyer/introduction-to-machine-learning-with-python-s-scikit-learn-czha398p1), forked to add requirements.txt so we can run it in binder.\n",
    "\n",
    "Stories about ML / [DL](https://playground.tensorflow.org/) (overview of AI)\n",
    "\n",
    "### Hike:\n",
    "\n",
    "* Warm up on [Repl.it](https://repl.it/@kurner/machine-learning-intro) (sentiment analysis) -- you can cut and paste this to your local IDE.\n",
    "\n",
    "* Dive in to [sklearn-intro](https://github.com/4dsolutions/sklearn-intro) (headline or clickbait?) -- you might want to clone this one.\n",
    "\n",
    "### Hike:\n",
    "\n",
    "* [Hand-written Digit Recognition](https://scikit-learn.org/stable/auto_examples/classification/plot_digits_classification.html) (runs in binder, see launch bar)"
   ]
  },
  {
   "cell_type": "markdown",
   "metadata": {},
   "source": [
    "Data Sources:\n",
    "\n",
    "*  [Kaggle](https://www.kaggle.com/datasets)\n",
    "*  [UCI](http://archive.ics.uci.edu/ml/index.php)"
   ]
  },
  {
   "cell_type": "markdown",
   "metadata": {},
   "source": [
    "## DAY FOUR\n",
    "\n",
    "#### Database Operations\n",
    "\n",
    "Stories about Data Science\n",
    "\n",
    "Topics:\n",
    "\n",
    "* [context managers](ContextManager.ipynb) in Python (a type of class used with keyword \"with\")\n",
    "\n",
    "* connection versus cursor objects\n",
    "\n",
    "* [SQL](https://sqlite.org/index.html) (via sqlite3)\n",
    "\n",
    "* pandas DataFrame\n",
    "\n",
    "### Hike:\n",
    "\n",
    "* Clone or Unzip a Github Repo\n",
    "\n",
    "* Skill build around SQL\n",
    "\n",
    "* Skill build around Jupyter Notebooks and Jupyter Lab"
   ]
  },
  {
   "cell_type": "code",
   "execution_count": 10,
   "metadata": {},
   "outputs": [
    {
     "name": "stdout",
     "output_type": "stream",
     "text": [
      "<sqlite3.Connection object at 0x10c79d2d0>\n",
      "<sqlite3.Cursor object at 0x10ccccc70>\n"
     ]
    }
   ],
   "source": [
    "from connector import DB\n",
    "with DB(\"./data/x_files.db\") as db:\n",
    "    print(db.conn)\n",
    "    print(db.curs)"
   ]
  },
  {
   "cell_type": "code",
   "execution_count": 11,
   "metadata": {},
   "outputs": [
    {
     "name": "stdout",
     "output_type": "stream",
     "text": [
      "SHAPE           DATE/TIME\n",
      "DISK            6/1/1954 19:00  \n",
      "LIGHT           9/1/1961 20:30  \n",
      "SPHERE          10/1/1961 3:00  \n",
      "SPHERE          6/1/1965 21:00  \n",
      "TRIANGLE        9/15/1966 21:00 \n",
      "LIGHT           7/1/1978 21:30  \n",
      "OTHER           8/1/1991 22:00  \n",
      "LIGHT           8/15/1991 22:00 \n",
      "OVAL            9/14/1993 21:00 \n",
      "CIRCLE          3/27/1997 22:30 \n",
      "OTHER           2/15/1998 23:35 \n",
      "OVAL            6/1/1998 17:00  \n",
      "LIGHT           8/16/1999 4:00  \n",
      "FIREBALL        11/16/1999 19:00\n",
      "FIREBALL        11/20/1999 14:00\n",
      "TRIANGLE        7/4/2000 23:00  \n",
      "SPHERE          9/13/2000 13:00 \n",
      "TRIANGLE        9/15/2000 0:00  \n"
     ]
    }
   ],
   "source": [
    "query = \"SELECT * FROM ufo_sightings WHERE city = 'Toledo' AND state = 'OH'\"\n",
    "\n",
    "with DB(\"./data/x_files.db\") as db:\n",
    "    obj = db.curs.execute(query)  # use the cursor object to\n",
    "    print(\"SHAPE           DATE/TIME\")\n",
    "    for rec in obj.fetchall():    # result set \n",
    "        if not rec[3]: # filter out if no shape\n",
    "            continue\n",
    "        print(\"{:15} {:16}\".format(rec[3], rec[5]))"
   ]
  },
  {
   "cell_type": "code",
   "execution_count": 12,
   "metadata": {},
   "outputs": [],
   "source": [
    "import usercrud  # CRUD: create, retrieve, update, delete\n",
    "import hashlib"
   ]
  },
  {
   "cell_type": "code",
   "execution_count": 13,
   "metadata": {},
   "outputs": [
    {
     "name": "stdout",
     "output_type": "stream",
     "text": [
      "User already exists\n"
     ]
    }
   ],
   "source": [
    "usercrud.add_one(\"Charlie\", \"spam\")"
   ]
  },
  {
   "cell_type": "code",
   "execution_count": 14,
   "metadata": {},
   "outputs": [
    {
     "name": "stdout",
     "output_type": "stream",
     "text": [
      "872c3fee15caebb69264d87967a4403530af569a172d2bbe8a52b8e1484edd20\n"
     ]
    }
   ],
   "source": [
    "# pw = input(\"Please enter your password. > \")\n",
    "pw = \"pinkpanther\"\n",
    "hashpw = hashlib.sha256(bytes(pw, encoding='utf-8')).hexdigest()\n",
    "print(hashpw)"
   ]
  },
  {
   "cell_type": "code",
   "execution_count": 15,
   "metadata": {},
   "outputs": [],
   "source": [
    "# you might need a cell like this to force recompilation of a module\n",
    "# import imp\n",
    "# imp.reload(usercrud)"
   ]
  },
  {
   "cell_type": "code",
   "execution_count": 16,
   "metadata": {},
   "outputs": [],
   "source": [
    "def table():\n",
    "    print(\"Users Table\")\n",
    "    for record in usercrud.fetch_all():\n",
    "        print(\"{:10} {:256}\".format(*record))"
   ]
  },
  {
   "cell_type": "code",
   "execution_count": 17,
   "metadata": {},
   "outputs": [
    {
     "name": "stdout",
     "output_type": "stream",
     "text": [
      "Users Table\n",
      "Kirby      b3c18129f841744d1e5483cdfb9ab276eae459f11ccf2a5a5e17ffc553c94b09                                                                                                                                                                                                \n",
      "PlatyPoo   1eecc677541a56bbcd7d79dbc5b8dba326c4b94cb2e9427d8b4097f7b29c7243                                                                                                                                                                                                \n",
      "Charlie    4e388ab32b10dc8dbc7e28144f552830adc74787c1e2c0824032078a79f227fb                                                                                                                                                                                                \n"
     ]
    }
   ],
   "source": [
    "table()"
   ]
  },
  {
   "cell_type": "code",
   "execution_count": 18,
   "metadata": {},
   "outputs": [
    {
     "data": {
      "text/html": [
       "<div>\n",
       "<style scoped>\n",
       "    .dataframe tbody tr th:only-of-type {\n",
       "        vertical-align: middle;\n",
       "    }\n",
       "\n",
       "    .dataframe tbody tr th {\n",
       "        vertical-align: top;\n",
       "    }\n",
       "\n",
       "    .dataframe thead th {\n",
       "        text-align: right;\n",
       "    }\n",
       "</style>\n",
       "<table border=\"1\" class=\"dataframe\">\n",
       "  <thead>\n",
       "    <tr style=\"text-align: right;\">\n",
       "      <th></th>\n",
       "      <th>how_many</th>\n",
       "      <th>Shape</th>\n",
       "    </tr>\n",
       "  </thead>\n",
       "  <tbody>\n",
       "    <tr>\n",
       "      <td>0</td>\n",
       "      <td>1</td>\n",
       "      <td>DOME</td>\n",
       "    </tr>\n",
       "    <tr>\n",
       "      <td>1</td>\n",
       "      <td>1</td>\n",
       "      <td>FLARE</td>\n",
       "    </tr>\n",
       "    <tr>\n",
       "      <td>2</td>\n",
       "      <td>1</td>\n",
       "      <td>HEXAGON</td>\n",
       "    </tr>\n",
       "    <tr>\n",
       "      <td>3</td>\n",
       "      <td>1</td>\n",
       "      <td>PYRAMID</td>\n",
       "    </tr>\n",
       "    <tr>\n",
       "      <td>4</td>\n",
       "      <td>2</td>\n",
       "      <td>CRESCENT</td>\n",
       "    </tr>\n",
       "    <tr>\n",
       "      <td>5</td>\n",
       "      <td>2</td>\n",
       "      <td>ROUND</td>\n",
       "    </tr>\n",
       "    <tr>\n",
       "      <td>6</td>\n",
       "      <td>7</td>\n",
       "      <td>DELTA</td>\n",
       "    </tr>\n",
       "    <tr>\n",
       "      <td>7</td>\n",
       "      <td>36</td>\n",
       "      <td>CROSS</td>\n",
       "    </tr>\n",
       "    <tr>\n",
       "      <td>8</td>\n",
       "      <td>60</td>\n",
       "      <td>CONE</td>\n",
       "    </tr>\n",
       "    <tr>\n",
       "      <td>9</td>\n",
       "      <td>119</td>\n",
       "      <td>TEARDROP</td>\n",
       "    </tr>\n",
       "  </tbody>\n",
       "</table>\n",
       "</div>"
      ],
      "text/plain": [
       "   how_many     Shape\n",
       "0         1      DOME\n",
       "1         1     FLARE\n",
       "2         1   HEXAGON\n",
       "3         1   PYRAMID\n",
       "4         2  CRESCENT\n",
       "5         2     ROUND\n",
       "6         7     DELTA\n",
       "7        36     CROSS\n",
       "8        60      CONE\n",
       "9       119  TEARDROP"
      ]
     },
     "execution_count": 18,
     "metadata": {},
     "output_type": "execute_result"
    }
   ],
   "source": [
    "import pandas as pd\n",
    "import sqlite3 as sql\n",
    "con = sql.connect(\"./data/x_files.db\")\n",
    "data=pd.read_sql_query(\"SELECT  count(*) as how_many, shape \"\n",
    "                       \"FROM ufo_sightings GROUP BY shape ORDER BY how_many\", con)\n",
    "data.head(10)"
   ]
  },
  {
   "cell_type": "markdown",
   "metadata": {},
   "source": [
    "For Further Reading:\n",
    "\n",
    "[Polyhedrons in a Database](https://github.com/4dsolutions/Python5/blob/master/Polyhedrons%20101.ipynb)"
   ]
  },
  {
   "cell_type": "markdown",
   "metadata": {},
   "source": [
    "## DAY FIVE\n",
    "\n",
    "#### Pulling It All Together\n",
    "\n",
    "Lets build a web server and run it on localhost!\n",
    "\n",
    "Stories:\n",
    "\n",
    "Python and Websites (some of the solutions)\n",
    "\n",
    "Visualization Libraries:\n",
    "\n",
    "* [matplotlib](https://matplotlib.org/)\n",
    "* [Bokeh](https://twitter.com/bokeh)\n",
    "* [Altair](https://altair-viz.github.io/)\n",
    "\n",
    "[Example Website](http://thekirbster.pythonanywhere.com)\n",
    "\n",
    "Topics:\n",
    "\n",
    "* HTTP\n",
    "\n",
    "* JSON, CSV, XML\n",
    "\n",
    "\n",
    "### Hike:\n",
    "\n",
    "* conda install flask\n",
    "\n",
    "* conda install requests\n",
    "\n",
    "* run and modify the web application(s)"
   ]
  },
  {
   "cell_type": "code",
   "execution_count": 19,
   "metadata": {},
   "outputs": [],
   "source": [
    "import requests"
   ]
  },
  {
   "cell_type": "code",
   "execution_count": 20,
   "metadata": {},
   "outputs": [],
   "source": [
    "myrequest = requests.get(\"http://thekirbster.pythonanywhere.com/api/elements?elem=H\")"
   ]
  },
  {
   "cell_type": "code",
   "execution_count": 21,
   "metadata": {},
   "outputs": [
    {
     "data": {
      "text/plain": [
       "'[1, \"H\", \"Hydrogen\", 1.008, \"diatomic nonmetal\", 1498013115, \"KTU\"]'"
      ]
     },
     "execution_count": 21,
     "metadata": {},
     "output_type": "execute_result"
    }
   ],
   "source": [
    "myrequest.text"
   ]
  },
  {
   "cell_type": "markdown",
   "metadata": {},
   "source": [
    "## More Campfire Stories\n",
    "\n",
    "One of our campers was able to crack into the users.db table and correctly guess a password (for Charlie I think it was).  Software that tests millions of obvious passwords will detect if the sha256 hashcode matches. Score!\n",
    "\n",
    "That doesn't mean sha256 is insecure.  The hackerware didn't deduce anything from the hexadecimals.  Weak passwords are insecure.\n",
    "\n",
    "Cybersecurity is as much a personal concern as something bigger organizations also focus on, under the heading of risk management.  \n",
    "\n",
    "On the other hand, if you're too afraid to make a splash, people might miss out on your most excellent contribution.  Like in scuba diving, once you well understand the potential dangers (such as strong currents), you're in a position to have a lot of fun as a sports diver.\n",
    "\n",
    "Another camper helped us get [the calculator](camper_program.py) going (it keeps changing as we go).  We worked on adding features and debugging it together.  \n",
    "\n",
    "As camp leader, I even [pinged the teachers](https://mail.python.org/archives/list/edu-sig@python.org/thread/H6KKJR57V7G4CIPDPJ7FUCXWDHMRUYUT/) on [Python.org edu-sig](https://mail.python.org/archives/list/edu-sig@python.org/), a mailman list devoted to the topic of Python in education.\n",
    "\n",
    "![sourvenir](./images/camp_mighty_moose.png)"
   ]
  }
 ],
 "metadata": {
  "kernelspec": {
   "display_name": "Python 3",
   "language": "python",
   "name": "python3"
  },
  "language_info": {
   "codemirror_mode": {
    "name": "ipython",
    "version": 3
   },
   "file_extension": ".py",
   "mimetype": "text/x-python",
   "name": "python",
   "nbconvert_exporter": "python",
   "pygments_lexer": "ipython3",
   "version": "3.7.4"
  }
 },
 "nbformat": 4,
 "nbformat_minor": 4
}
