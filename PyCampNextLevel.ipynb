{
 "cells": [
  {
   "cell_type": "markdown",
   "metadata": {},
   "source": [
    "# PyCamp:  Next Level\n",
    "### Camp MightyMoose\n",
    "\n",
    "![bonfire](./PyCampEventListening/camping.png)"
   ]
  },
  {
   "cell_type": "markdown",
   "metadata": {},
   "source": [
    "# Camp Description (March - April 2020):\n",
    "\n",
    "This camp will show our students just how powerful Python can be! Campers will explore its terminal basics and learn how to find and understand Python packages to make any project they can imagine! Advanced topics will include AI (Artificial Intelligence), Database Operations, and more. Welcome to the real world of programming!\n",
    "\n",
    "#### Prerequisites:\n",
    "Previous Python experience or other text-based programing language (JavaScript, C#, etc.)"
   ]
  },
  {
   "cell_type": "markdown",
   "metadata": {},
   "source": [
    "## FAQ\n",
    "\n",
    "*Q*: What IDE should I use?\n",
    "\n",
    "*A*: Try out a bunch!  The instructor will show you several.  Try Spyder, it comes with [Anaconda](https://www.anaconda.com/downloads).\n",
    "\n",
    "*Q*: What version of Python will we need?\n",
    "\n",
    "*A*: Python3 or later (not 2.7). I recommend getting Python from [Anaconda](https://www.anaconda.com/downloads) as we're going to be using Jupyter Notebooks and JupyterLab and these are included in that distro.\n",
    "\n",
    "*Q*: What if I'm home from school and want to learn calculus?\n",
    "\n",
    "*A*: Here's [a starting place](https://github.com/4dsolutions/School_of_Tomorrow/blob/master/Intro%20to%20Calculus.ipynb) (one of many)\n",
    "\n",
    "*Q*: Do I need Git?\n",
    "\n",
    "A: You will have a better experience if you can clone [this repo](https://github.com/4dsolutions/python_camp).  Then you can ```git pull``` future updates.  On Windows?  [Get git](https://gitforwindows.org/) here."
   ]
  },
  {
   "cell_type": "markdown",
   "metadata": {},
   "source": [
    "## DAY ONE\n",
    "\n",
    "Python is used for many purposes in many walks of life.\n",
    "\n",
    "We're going to tell stories around the campfire (share lore) and take hikes (work out, go places, see things, try stuff out).\n",
    "\n",
    "### Example Workout (hike):\n",
    "\n",
    "* Create your Github account (if you don't already have one)\n",
    "\n",
    "* Download the Anaconda distro of Python\n",
    "\n",
    "[Looking for games](https://pypi.org/project/freegames/)?\n",
    "\n",
    "How about [Pygame](https://pygame.readthedocs.io/en/latest/)?  Repl.it lets you try it out.\n",
    "\n",
    "### Hike:\n",
    "\n",
    "Run, Fork, Port, Modify any / all of the following:\n",
    "\n",
    "* [PyCamp Screen Saver](https://repl.it/@kurner/PyCamp-Screen-Saver)\n",
    "\n",
    "* [PyCampEventListening](https://repl.it/@kurner/PyCampEventListening)\n",
    "\n",
    "* [FishyDemo2](https://repl.it/@kurner/FishyDemo2)\n",
    "\n",
    "If you get serious about Pygame, install it locally (e.g. through [PyCharm](https://www.jetbrains.com/pycharm/))."
   ]
  },
  {
   "cell_type": "markdown",
   "metadata": {},
   "source": [
    "### Examples of Python in Action\n",
    "\n",
    "* [Arbitrary Precision Computing](https://github.com/4dsolutions/Python5/blob/master/Extended%20Precision.ipynb) (e.g. \"pi to a thousand places\")\n",
    "\n",
    "* [A Library](https://github.com/4dsolutions/School_of_Tomorrow/blob/master/Flextegrity_Lattice.ipynb) for working with [POV-Ray](http://povray.org)\n",
    "\n",
    "* [A Flask website](http://thekirbster.pythonanywhere.com/)"
   ]
  },
  {
   "cell_type": "code",
   "execution_count": 1,
   "metadata": {},
   "outputs": [
    {
     "name": "stdout",
     "output_type": "stream",
     "text": [
      "2.718281828459045235360287471352662497757247093699959574966967627724076630353547594571382178525166427426107251017773537272944324338265727075159043553471000244537649931411462661698975357333166908648006\n"
     ]
    }
   ],
   "source": [
    "# Arbitrary Precision Demo\n",
    "\n",
    "# lets see if your calculator can keep up with Python\n",
    "\n",
    "import decimal\n",
    "\n",
    "with decimal.localcontext() as ctx:  # context manager\n",
    "    ctx.prec = 1000\n",
    "    n = decimal.Decimal(1e102)\n",
    "    e = (1 + 1/n) ** n  # euler's number as n->infinity\n",
    "    print(\"{}\".format(str(e)[:200]))"
   ]
  },
  {
   "cell_type": "markdown",
   "metadata": {},
   "source": [
    "For further reading:\n",
    "\n",
    "* [The Calculator of Tomorrow:  Using Arbitrary Precision](https://medium.com/@kirbyurner/calculator-of-tomorrow-using-arbitrary-precision-8f219b0092d9)"
   ]
  },
  {
   "cell_type": "markdown",
   "metadata": {},
   "source": [
    "## DAY TWO\n",
    "\n",
    "Some of our skill building topics:\n",
    "\n",
    "* downloading and installing [packages](https://pypi.org/) with conda and [pip](https://pypi.org/project/freegames/)\n",
    "\n",
    "* importing modules and packages\n",
    "\n",
    "* Python and Unicode (printing ranges of unicode characters)\n",
    "\n",
    "* sys.argv and passing arguments from the command line\n",
    "\n",
    "* many number types in Python (including 3rd party)"
   ]
  },
  {
   "cell_type": "code",
   "execution_count": 2,
   "metadata": {},
   "outputs": [
    {
     "name": "stdout",
     "output_type": "stream",
     "text": [
      "$ unicode_fun.py name\n",
      "where name is:\n",
      "arabic, hebrew, greek, korean, emoji, all\n",
      "\n"
     ]
    }
   ],
   "source": [
    "# calling python through the operating system\n",
    "! python unicode_fun.py"
   ]
  },
  {
   "cell_type": "code",
   "execution_count": 3,
   "metadata": {},
   "outputs": [
    {
     "name": "stdout",
     "output_type": "stream",
     "text": [
      "묀묁묂묃묄묅묆묇묈묉묊묋묌묍묎묏묐묑묒묓묔묕묖묗묘묙묚묛묜묝묞묟묠묡묢묣묤묥묦묧묨묩묪묫묬묭묮묯묰묱묲묳무묵묶묷문묹묺묻물묽묾묿뭀뭁뭂뭃뭄뭅뭆뭇뭈뭉뭊뭋뭌뭍뭎뭏뭐뭑뭒뭓뭔뭕뭖뭗뭘뭙뭚뭛뭜뭝뭞뭟뭠뭡뭢뭣뭤뭥뭦뭧뭨뭩뭪뭫뭬뭭뭮뭯뭰뭱뭲뭳뭴뭵뭶뭷뭸뭹뭺뭻뭼뭽뭾뭿뮀뮁뮂뮃뮄뮅뮆뮇뮈뮉뮊뮋뮌뮍뮎뮏뮐뮑뮒뮓뮔뮕뮖뮗뮘뮙뮚뮛뮜뮝뮞뮟뮠뮡뮢뮣뮤뮥뮦뮧뮨뮩뮪뮫뮬뮭뮮\n"
     ]
    }
   ],
   "source": [
    "! python unicode_fun.py korean"
   ]
  },
  {
   "cell_type": "code",
   "execution_count": 4,
   "metadata": {},
   "outputs": [
    {
     "name": "stdout",
     "output_type": "stream",
     "text": [
      "😀 😁 😂 😃 😄 😅 😆 😇 😈 😉 😊 😋 😌 😍 😎 😏 😐 😑 😒 😓 😔 😕 😖 😗 😘 😙 😚 😛 😜 😝 😞 😟 \n"
     ]
    }
   ],
   "source": [
    "! python unicode_fun.py emoji"
   ]
  },
  {
   "cell_type": "markdown",
   "metadata": {},
   "source": [
    "## DAY THREE\n",
    "\n",
    "#### Machine Learning\n",
    "\n",
    "Lets use a fine specimen of [an on-line tutorial](https://www.codementor.io/@garethdwyer/introduction-to-machine-learning-with-python-s-scikit-learn-czha398p1), forked to add requirements.txt so we can run it in binder.\n",
    "\n",
    "Stories about ML / [DL](https://playground.tensorflow.org/) (overview of AI)\n",
    "\n",
    "### Hike:\n",
    "\n",
    "* Warm up on [Repl.it](https://repl.it/@kurner/machine-learning-intro) (sentiment analysis) -- you can cut and paste this to your local IDE.\n",
    "\n",
    "* Dive in to [sklearn-intro](https://github.com/4dsolutions/sklearn-intro) (headline or clickbait?) -- you might want to clone this one."
   ]
  },
  {
   "cell_type": "markdown",
   "metadata": {},
   "source": [
    "## DAY FOUR\n",
    "\n",
    "#### Database Operations\n",
    "\n",
    "Stories about Data Science\n",
    "\n",
    "Topics:\n",
    "\n",
    "* context managers in Python (a type of class used with keyword \"with\")\n",
    "\n",
    "* connection versus cursor objects\n",
    "\n",
    "* [SQL](https://sqlite.org/index.html) (via sqlite3)\n",
    "\n",
    "* pandas DataFrame\n",
    "\n",
    "### Hike:\n",
    "\n",
    "* Clone or Unzip a Github Repo\n",
    "\n",
    "* Skill build around SQL\n",
    "\n",
    "* Skill build around Jupyter Notebooks and Jupyter Lab"
   ]
  },
  {
   "cell_type": "code",
   "execution_count": 5,
   "metadata": {},
   "outputs": [],
   "source": [
    "import usercrud  # CRUD: create, retrieve, update, delete\n",
    "import hashlib"
   ]
  },
  {
   "cell_type": "code",
   "execution_count": 6,
   "metadata": {},
   "outputs": [
    {
     "name": "stdin",
     "output_type": "stream",
     "text": [
      "Please enter your password. >  jumanji\n"
     ]
    },
    {
     "name": "stdout",
     "output_type": "stream",
     "text": [
      "3895e3e4759540465bed9c8d553879b01a204cc6966796da7632e9ebfcf499df\n"
     ]
    }
   ],
   "source": [
    "pw = input(\"Please enter your password. > \")\n",
    "hashpw = hashlib.sha256(bytes(pw, encoding='utf-8')).hexdigest()\n",
    "print(hashpw)"
   ]
  },
  {
   "cell_type": "code",
   "execution_count": 7,
   "metadata": {},
   "outputs": [],
   "source": [
    "# you might need a cell like this to force recompilation of a module\n",
    "# import imp\n",
    "# imp.reload(usercrud)"
   ]
  },
  {
   "cell_type": "code",
   "execution_count": 8,
   "metadata": {},
   "outputs": [],
   "source": [
    "def table():\n",
    "    print(\"Users Table\")\n",
    "    for record in usercrud.fetch_all():\n",
    "        print(\"{:10} {:256}\".format(*record))"
   ]
  },
  {
   "cell_type": "code",
   "execution_count": 9,
   "metadata": {},
   "outputs": [
    {
     "name": "stdout",
     "output_type": "stream",
     "text": [
      "Users Table\n",
      "Kirby      ddf2a38475000a193e170a88cc769a0e3e34d81df8280d5cba8764ad0f6af168                                                                                                                                                                                                \n",
      "ScoobyDoo  6c75caf4fe6f5ef7a31795e0070575c0c80e5e86494007d7fbec58b1fff943f4                                                                                                                                                                                                \n",
      "BigBird    6c75caf4fe6f5ef7a31795e0070575c0c80e5e86494007d7fbec58b1fff943f4                                                                                                                                                                                                \n"
     ]
    }
   ],
   "source": [
    "table()"
   ]
  },
  {
   "cell_type": "code",
   "execution_count": 10,
   "metadata": {},
   "outputs": [
    {
     "data": {
      "text/html": [
       "<div>\n",
       "<style scoped>\n",
       "    .dataframe tbody tr th:only-of-type {\n",
       "        vertical-align: middle;\n",
       "    }\n",
       "\n",
       "    .dataframe tbody tr th {\n",
       "        vertical-align: top;\n",
       "    }\n",
       "\n",
       "    .dataframe thead th {\n",
       "        text-align: right;\n",
       "    }\n",
       "</style>\n",
       "<table border=\"1\" class=\"dataframe\">\n",
       "  <thead>\n",
       "    <tr style=\"text-align: right;\">\n",
       "      <th></th>\n",
       "      <th>how_many</th>\n",
       "      <th>Shape</th>\n",
       "    </tr>\n",
       "  </thead>\n",
       "  <tbody>\n",
       "    <tr>\n",
       "      <td>0</td>\n",
       "      <td>1</td>\n",
       "      <td>DOME</td>\n",
       "    </tr>\n",
       "    <tr>\n",
       "      <td>1</td>\n",
       "      <td>1</td>\n",
       "      <td>FLARE</td>\n",
       "    </tr>\n",
       "    <tr>\n",
       "      <td>2</td>\n",
       "      <td>1</td>\n",
       "      <td>HEXAGON</td>\n",
       "    </tr>\n",
       "    <tr>\n",
       "      <td>3</td>\n",
       "      <td>1</td>\n",
       "      <td>PYRAMID</td>\n",
       "    </tr>\n",
       "    <tr>\n",
       "      <td>4</td>\n",
       "      <td>2</td>\n",
       "      <td>CRESCENT</td>\n",
       "    </tr>\n",
       "  </tbody>\n",
       "</table>\n",
       "</div>"
      ],
      "text/plain": [
       "   how_many     Shape\n",
       "0         1      DOME\n",
       "1         1     FLARE\n",
       "2         1   HEXAGON\n",
       "3         1   PYRAMID\n",
       "4         2  CRESCENT"
      ]
     },
     "execution_count": 10,
     "metadata": {},
     "output_type": "execute_result"
    }
   ],
   "source": [
    "import pandas as pd\n",
    "import sqlite3 as sql\n",
    "con = sql.connect(\"./data/x_files.db\")\n",
    "data=pd.read_sql_query(\"SELECT  count(*) as how_many, shape \"\n",
    "                       \"FROM ufo_sightings GROUP BY shape ORDER BY how_many\", con)\n",
    "data.head()"
   ]
  },
  {
   "cell_type": "markdown",
   "metadata": {},
   "source": [
    "For Further Reading:\n",
    "\n",
    "[Polyhedrons in a Database](https://github.com/4dsolutions/Python5/blob/master/Polyhedrons%20101.ipynb)"
   ]
  },
  {
   "cell_type": "markdown",
   "metadata": {},
   "source": [
    "## DAY FIVE\n",
    "\n",
    "#### Pulling It All Together\n",
    "\n",
    "Lets build a web server and run it on localhost!\n",
    "\n",
    "Stories:\n",
    "\n",
    "Python and Websites (some of the solutions)\n",
    "\n",
    "[Example Website](http://thekirbster.pythonanywhere.com)\n",
    "\n",
    "Topics:\n",
    "\n",
    "* HTTP\n",
    "\n",
    "* JSON, CSV, XML\n",
    "\n",
    "\n",
    "### Hike:\n",
    "\n",
    "* conda install flask\n",
    "\n",
    "* conda install requests\n",
    "\n",
    "* run and modify CampApp"
   ]
  },
  {
   "cell_type": "code",
   "execution_count": 11,
   "metadata": {},
   "outputs": [],
   "source": [
    "import requests"
   ]
  },
  {
   "cell_type": "code",
   "execution_count": 12,
   "metadata": {},
   "outputs": [],
   "source": [
    "myrequest = requests.get(\"http://thekirbster.pythonanywhere.com/api/elements?elem=H\")"
   ]
  },
  {
   "cell_type": "code",
   "execution_count": 13,
   "metadata": {},
   "outputs": [
    {
     "data": {
      "text/plain": [
       "'[1, \"H\", \"Hydrogen\", 1.008, \"diatomic nonmetal\", 1498013115, \"KTU\"]'"
      ]
     },
     "execution_count": 13,
     "metadata": {},
     "output_type": "execute_result"
    }
   ],
   "source": [
    "myrequest.text"
   ]
  }
 ],
 "metadata": {
  "kernelspec": {
   "display_name": "Python 3",
   "language": "python",
   "name": "python3"
  },
  "language_info": {
   "codemirror_mode": {
    "name": "ipython",
    "version": 3
   },
   "file_extension": ".py",
   "mimetype": "text/x-python",
   "name": "python",
   "nbconvert_exporter": "python",
   "pygments_lexer": "ipython3",
   "version": "3.7.4"
  }
 },
 "nbformat": 4,
 "nbformat_minor": 4
}
