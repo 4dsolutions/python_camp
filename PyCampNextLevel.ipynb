{
 "cells": [
  {
   "cell_type": "markdown",
   "metadata": {},
   "source": [
    "# PyCamp:  Next Level\n",
    "### Camp MightyMoose"
   ]
  },
  {
   "cell_type": "markdown",
   "metadata": {},
   "source": [
    "## FAQ\n",
    "\n",
    "Q: What IDE should I use?\n",
    "\n",
    "A: Try out a bunch!  The instructor will show you several.\n",
    "\n",
    "Q: What version of Python will we need?\n",
    "\n",
    "A: Python3 or later (not 2.7)"
   ]
  },
  {
   "cell_type": "markdown",
   "metadata": {},
   "source": [
    "## DAY ONE\n",
    "\n",
    "Python is used for many purposes in many walks of life.\n",
    "\n",
    "We're going to tell stories (share lore) and take hikes (work out).\n",
    "\n",
    "Example Workout:\n",
    "\n",
    "* Create your Github account (if you don't already have one)\n",
    "\n",
    "* Download Anaconda distro of Python\n",
    "\n",
    "Looking for games?\n",
    "\n",
    "How about Pygame?  Repl.it lets you try it out.\n",
    "\n",
    "Hike:\n",
    "\n",
    "Run, Fork, Port, Modify any / all of the following:\n",
    "\n",
    "* [PyCamp Screen Saver](https://repl.it/@kurner/PyCamp-Screen-Saver)\n",
    "\n",
    "* [FishyDemo2](https://repl.it/@kurner/FishyDemo2)\n",
    "\n",
    "If you get serious about Pygame, install it locally (e.g. through PyCharm)."
   ]
  },
  {
   "cell_type": "markdown",
   "metadata": {},
   "source": [
    "## DAY TWO\n",
    "\n",
    "Some of our skill building topics:\n",
    "\n",
    "* downloading and installing packages with conda and pip\n",
    "\n",
    "* importing modules and packages\n",
    "\n",
    "* Python and Unicode (printing ranges of unicode characters)\n",
    "\n",
    "* sys.argv and passing arguments from the command line"
   ]
  },
  {
   "cell_type": "markdown",
   "metadata": {},
   "source": [
    "## DAY THREE\n",
    "\n",
    "#### Machine Learning\n",
    "\n",
    "Lets use a fine specimen of [an on-line tutorial](https://www.codementor.io/@garethdwyer/introduction-to-machine-learning-with-python-s-scikit-learn-czha398p1), forked to add requirements.txt so we can run it in binder.\n",
    "\n",
    "Stories about ML / DL (overview of AI)\n",
    "\n",
    "Hike:\n",
    "\n",
    "* Warm up on [Repl.it](https://repl.it/@kurner/machine-learning-intro)\n",
    "\n",
    "* Dive in on [sklearn-intro](https://github.com/4dsolutions/sklearn-intro)"
   ]
  },
  {
   "cell_type": "markdown",
   "metadata": {},
   "source": [
    "## DAY FOUR\n",
    "\n",
    "#### Database Operations\n",
    "\n",
    "Stories about Data Science\n",
    "\n",
    "Topics:\n",
    "\n",
    "* context managers in Python (a type of class used with keyword \"with\")\n",
    "\n",
    "* connection versus cursor objects\n",
    "\n",
    "* SQL (via sqlite3)\n",
    "\n",
    "* pandas DataFrame\n",
    "\n",
    "Hike:\n",
    "\n",
    "* Clone or Unzip a Github Repo\n",
    "\n",
    "* Skill build around SQL\n",
    "\n",
    "* Skill build around Jupyter Notebooks and Jupyter Lab"
   ]
  },
  {
   "cell_type": "code",
   "execution_count": 34,
   "metadata": {},
   "outputs": [],
   "source": [
    "import usercrud"
   ]
  },
  {
   "cell_type": "code",
   "execution_count": 13,
   "metadata": {},
   "outputs": [
    {
     "data": {
      "text/plain": [
       "<module 'usercrud' from '/Users/mac/Documents/CwK/python_camp/usercrud.py'>"
      ]
     },
     "execution_count": 13,
     "metadata": {},
     "output_type": "execute_result"
    }
   ],
   "source": [
    "# you might need a cell like this to force recompilation of a module\n",
    "# import imp\n",
    "# imp.reload(usercrud)"
   ]
  },
  {
   "cell_type": "code",
   "execution_count": 35,
   "metadata": {},
   "outputs": [],
   "source": [
    "def table():\n",
    "    print(\"Users Table\")\n",
    "    for record in usercrud.fetch_all():\n",
    "        print(\"{:10} {:256}\".format(*record))"
   ]
  },
  {
   "cell_type": "code",
   "execution_count": 32,
   "metadata": {},
   "outputs": [
    {
     "name": "stdout",
     "output_type": "stream",
     "text": [
      "Users Table\n",
      "Kirby      ddf2a38475000a193e170a88cc769a0e3e34d81df8280d5cba8764ad0f6af168                                                                                                                                                                                                \n",
      "ScoobyDoo  6c75caf4fe6f5ef7a31795e0070575c0c80e5e86494007d7fbec58b1fff943f4                                                                                                                                                                                                \n",
      "BigBird    6c75caf4fe6f5ef7a31795e0070575c0c80e5e86494007d7fbec58b1fff943f4                                                                                                                                                                                                \n"
     ]
    }
   ],
   "source": [
    "table()"
   ]
  },
  {
   "cell_type": "code",
   "execution_count": 36,
   "metadata": {},
   "outputs": [
    {
     "data": {
      "text/html": [
       "<div>\n",
       "<style scoped>\n",
       "    .dataframe tbody tr th:only-of-type {\n",
       "        vertical-align: middle;\n",
       "    }\n",
       "\n",
       "    .dataframe tbody tr th {\n",
       "        vertical-align: top;\n",
       "    }\n",
       "\n",
       "    .dataframe thead th {\n",
       "        text-align: right;\n",
       "    }\n",
       "</style>\n",
       "<table border=\"1\" class=\"dataframe\">\n",
       "  <thead>\n",
       "    <tr style=\"text-align: right;\">\n",
       "      <th></th>\n",
       "      <th>how_many</th>\n",
       "      <th>Shape</th>\n",
       "    </tr>\n",
       "  </thead>\n",
       "  <tbody>\n",
       "    <tr>\n",
       "      <td>0</td>\n",
       "      <td>1</td>\n",
       "      <td>DOME</td>\n",
       "    </tr>\n",
       "    <tr>\n",
       "      <td>1</td>\n",
       "      <td>1</td>\n",
       "      <td>FLARE</td>\n",
       "    </tr>\n",
       "    <tr>\n",
       "      <td>2</td>\n",
       "      <td>1</td>\n",
       "      <td>HEXAGON</td>\n",
       "    </tr>\n",
       "    <tr>\n",
       "      <td>3</td>\n",
       "      <td>1</td>\n",
       "      <td>PYRAMID</td>\n",
       "    </tr>\n",
       "    <tr>\n",
       "      <td>4</td>\n",
       "      <td>2</td>\n",
       "      <td>CRESCENT</td>\n",
       "    </tr>\n",
       "  </tbody>\n",
       "</table>\n",
       "</div>"
      ],
      "text/plain": [
       "   how_many     Shape\n",
       "0         1      DOME\n",
       "1         1     FLARE\n",
       "2         1   HEXAGON\n",
       "3         1   PYRAMID\n",
       "4         2  CRESCENT"
      ]
     },
     "execution_count": 36,
     "metadata": {},
     "output_type": "execute_result"
    }
   ],
   "source": [
    "import pandas as pd\n",
    "import sqlite3 as sql\n",
    "con = sql.connect(\"./data/x_files.db\")\n",
    "data=pd.read_sql_query(\"SELECT  count(*) as how_many, shape \"\n",
    "                       \"FROM ufo_sightings GROUP BY shape ORDER BY how_many\", con)\n",
    "data.head()"
   ]
  },
  {
   "cell_type": "markdown",
   "metadata": {},
   "source": [
    "## DAY FIVE\n",
    "\n",
    "#### Pulling It All Together\n",
    "\n",
    "Lets build a web server and run it on localhost!\n",
    "\n",
    "Stories:\n",
    "\n",
    "Python and Websites (some of the solutions)\n",
    "\n",
    "[Example Website](http://thekirbster.pythonanywhere.com)\n",
    "\n",
    "Topics:\n",
    "\n",
    "* HTTP\n",
    "\n",
    "* JSON, CSV, XML\n",
    "\n",
    "\n",
    "Hike:\n",
    "\n",
    "* conda install flask\n",
    "\n",
    "* conda install requests\n",
    "\n",
    "* run and modify CampApp"
   ]
  },
  {
   "cell_type": "code",
   "execution_count": 1,
   "metadata": {},
   "outputs": [],
   "source": [
    "import requests"
   ]
  },
  {
   "cell_type": "code",
   "execution_count": 11,
   "metadata": {},
   "outputs": [],
   "source": [
    "myrequest = requests.get(\"http://thekirbster.pythonanywhere.com/api/elements?elem=H\")"
   ]
  },
  {
   "cell_type": "code",
   "execution_count": 12,
   "metadata": {},
   "outputs": [
    {
     "data": {
      "text/plain": [
       "'[1, \"H\", \"Hydrogen\", 1.008, \"diatomic nonmetal\", 1498013115, \"KTU\"]'"
      ]
     },
     "execution_count": 12,
     "metadata": {},
     "output_type": "execute_result"
    }
   ],
   "source": [
    "myrequest.text"
   ]
  }
 ],
 "metadata": {
  "kernelspec": {
   "display_name": "Python 3",
   "language": "python",
   "name": "python3"
  },
  "language_info": {
   "codemirror_mode": {
    "name": "ipython",
    "version": 3
   },
   "file_extension": ".py",
   "mimetype": "text/x-python",
   "name": "python",
   "nbconvert_exporter": "python",
   "pygments_lexer": "ipython3",
   "version": "3.7.4"
  }
 },
 "nbformat": 4,
 "nbformat_minor": 4
}
