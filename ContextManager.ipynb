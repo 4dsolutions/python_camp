{
 "cells": [
  {
   "cell_type": "markdown",
   "metadata": {},
   "source": [
    "[Back to PyCampNextLevel Outline](PyCampNextLevel.ipynb)\n",
    "\n",
    "# Context Managers and SQL\n",
    "\n",
    "<a data-flickr-embed=\"true\"  href=\"https://www.flickr.com/photos/kirbyurner/4536485960/in/album-72157626755979299/\" title=\"stsci 004\"><img src=\"https://live.staticflickr.com/4044/4536485960_24011f181f.jpg\" width=\"500\" height=\"375\" alt=\"stsci 004\"></a><script async src=\"//embedr.flickr.com/assets/client-code.js\" charset=\"utf-8\"></script>\n",
    "\n",
    "Context manager types are defined by their two characteristic methods, ```__enter__``` and ```__exit__```.  As a Python programmer, you're free to make up applications for this grammar.  Its purpose is to provide a \"scope specific\" object you will typically want to open and close at the start and end of the scope, however this is not the only pattern one might use.  Allowing the \"scope object\" to continue beyond the scope is certainly an option.\n",
    "\n",
    "Lets check out the pattern, which is based on a class."
   ]
  },
  {
   "cell_type": "code",
   "execution_count": 1,
   "metadata": {},
   "outputs": [],
   "source": [
    "class CM:\n",
    "    \n",
    "    def __enter__(self):\n",
    "        print(\"Entering...\")\n",
    "        self.a = [1,2,3]\n",
    "        return self  # <--- as self\n",
    "    \n",
    "    def __exit__(self, *oops):\n",
    "        \"\"\"\n",
    "        If an exception occurs in the scope (indented block)\n",
    "        then instead of None, None, None coming into __exit__,\n",
    "        will be about the details of the exception. *oops scoops\n",
    "        the three arguments into a single tuple, however this is\n",
    "        not the required parameter pattern.  Just deal with three\n",
    "        arguments.\n",
    "        \"\"\"\n",
    "        if oops[0]:\n",
    "            print(\"Exception in play...\")\n",
    "            print(\"Handling it...\")\n",
    "            return True\n",
    "        print(\"Exiting\")"
   ]
  },
  {
   "cell_type": "code",
   "execution_count": 2,
   "metadata": {},
   "outputs": [
    {
     "name": "stdout",
     "output_type": "stream",
     "text": [
      "Entering...\n",
      "Within the scope [1, 2, 3]\n",
      "Exiting\n",
      "obj is still alive: [1, 2, 3]\n"
     ]
    }
   ],
   "source": [
    "with CM() as obj:\n",
    "    print(\"Within the scope {}\".format(obj.a))\n",
    "    \n",
    "print(\"obj is still alive: {}\".format(obj.a))"
   ]
  },
  {
   "cell_type": "code",
   "execution_count": 3,
   "metadata": {},
   "outputs": [
    {
     "name": "stdout",
     "output_type": "stream",
     "text": [
      "Entering...\n",
      "Within the scope [1, 2, 3]\n",
      "Exception in play...\n",
      "Handling it...\n",
      "obj is still alive: [1, 2, 3]\n"
     ]
    }
   ],
   "source": [
    "with CM() as obj:\n",
    "    print(\"Within the scope {}\".format(obj.a))\n",
    "    raise Exception\n",
    "    \n",
    "print(\"obj is still alive: {}\".format(obj.a))"
   ]
  },
  {
   "cell_type": "markdown",
   "metadata": {},
   "source": [
    "### Hexworld Game\n",
    "\n",
    "```hexworld.py``` uses a lot of Python keywords and constructs, including the context manager feature.  The Game class has ```__enter__``` and ```__exit__``` methods to help structure the flow."
   ]
  },
  {
   "cell_type": "code",
   "execution_count": 4,
   "metadata": {},
   "outputs": [
    {
     "name": "stdout",
     "output_type": "stream",
     "text": [
      "Help on class Game in module hexworld:\n",
      "\n",
      "class Game(builtins.object)\n",
      " |  Game(player)\n",
      " |  \n",
      " |  Will the player score more than 100 points before the \n",
      " |  allowed number of turns, max_turns, runs out?\n",
      " |  \n",
      " |  Designed for use in a try block with a while True loop.\n",
      " |  The only way to escape the loop is by means of an \n",
      " |  exception.  However Quitter is handled by __exit__\n",
      " |  whereas Winner and Loser propagate outside the context.\n",
      " |  \n",
      " |  Methods defined here:\n",
      " |  \n",
      " |  __enter__(self)\n",
      " |      As you enter a context, you must go through here\n",
      " |  \n",
      " |  __exit__(self, *oops)\n",
      " |      As you leave a context, you must go through here\n",
      " |  \n",
      " |  __init__(self, player)\n",
      " |      Initialize self.  See help(type(self)) for accurate signature.\n",
      " |  \n",
      " |  turn_to_play(self)\n",
      " |  \n",
      " |  ----------------------------------------------------------------------\n",
      " |  Data descriptors defined here:\n",
      " |  \n",
      " |  __dict__\n",
      " |      dictionary for instance variables (if defined)\n",
      " |  \n",
      " |  __weakref__\n",
      " |      list of weak references to the object (if defined)\n",
      "\n"
     ]
    }
   ],
   "source": [
    "import hexworld\n",
    "help(hexworld.Game)"
   ]
  },
  {
   "cell_type": "markdown",
   "metadata": {},
   "source": [
    "### Airports With SQL"
   ]
  },
  {
   "cell_type": "markdown",
   "metadata": {},
   "source": [
    "```airports.db``` is a SQLite database, which is basically a text file designed to work with the standard SQL database API, called the DBI.\n",
    "\n",
    "Lets call out to the operating system just to get some stats on the file."
   ]
  },
  {
   "cell_type": "code",
   "execution_count": 5,
   "metadata": {},
   "outputs": [
    {
     "name": "stdout",
     "output_type": "stream",
     "text": [
      "-rwxr-xr-x@ 1 staff  475136 Apr  2 22:15 \u001b[31m./data/airports.db\u001b[m\u001b[m\r\n"
     ]
    }
   ],
   "source": [
    "! ls -g ./data/airports.*"
   ]
  },
  {
   "cell_type": "markdown",
   "metadata": {},
   "source": [
    "We have another way of looking into a file's details, through the ```os``` module."
   ]
  },
  {
   "cell_type": "code",
   "execution_count": 6,
   "metadata": {},
   "outputs": [
    {
     "data": {
      "text/plain": [
       "475136"
      ]
     },
     "execution_count": 6,
     "metadata": {},
     "output_type": "execute_result"
    }
   ],
   "source": [
    "import os\n",
    "r = os.stat(\"./data/airports.db\")\n",
    "r.st_size"
   ]
  },
  {
   "cell_type": "markdown",
   "metadata": {},
   "source": [
    "OK, lets turn to using the ```sqlite3``` module in the Standard Library."
   ]
  },
  {
   "cell_type": "code",
   "execution_count": 7,
   "metadata": {},
   "outputs": [],
   "source": [
    "import sqlite3 as sql"
   ]
  },
  {
   "cell_type": "code",
   "execution_count": 8,
   "metadata": {},
   "outputs": [
    {
     "data": {
      "text/plain": [
       "module"
      ]
     },
     "execution_count": 8,
     "metadata": {},
     "output_type": "execute_result"
    }
   ],
   "source": [
    "type(sql)"
   ]
  },
  {
   "cell_type": "code",
   "execution_count": 9,
   "metadata": {},
   "outputs": [],
   "source": [
    "con = sql.connect(\"./data/airports.db\")"
   ]
  },
  {
   "cell_type": "code",
   "execution_count": 10,
   "metadata": {},
   "outputs": [
    {
     "name": "stdout",
     "output_type": "stream",
     "text": [
      "[('Airports',)]\n"
     ]
    }
   ],
   "source": [
    "cursor = con.cursor()\n",
    "cursor.execute(\"SELECT name FROM sqlite_master WHERE type='table';\")\n",
    "print(cursor.fetchall())"
   ]
  },
  {
   "cell_type": "code",
   "execution_count": 11,
   "metadata": {},
   "outputs": [
    {
     "data": {
      "text/plain": [
       "[(0, 'iata', 'text', 0, None, 0),\n",
       " (1, 'iso', 'text', 0, None, 0),\n",
       " (2, 'name', 'text', 0, None, 0),\n",
       " (3, 'continent', 'text', 0, None, 0),\n",
       " (4, 'type', 'text', 0, None, 0),\n",
       " (5, 'lat', 'float', 0, None, 0),\n",
       " (6, 'lon', 'float', 0, None, 0),\n",
       " (7, 'size', 'text', 0, None, 0),\n",
       " (8, 'status', 'int', 0, None, 0)]"
      ]
     },
     "execution_count": 11,
     "metadata": {},
     "output_type": "execute_result"
    }
   ],
   "source": [
    "result = cursor.execute(\"PRAGMA table_info('Airports')\").fetchall()\n",
    "result"
   ]
  },
  {
   "cell_type": "code",
   "execution_count": 12,
   "metadata": {},
   "outputs": [],
   "source": [
    "result = cursor.execute(\"SELECT * FROM Airports WHERE iata='SFO'\").fetchall()"
   ]
  },
  {
   "cell_type": "code",
   "execution_count": 13,
   "metadata": {},
   "outputs": [
    {
     "data": {
      "text/plain": [
       "[('SFO',\n",
       "  'US',\n",
       "  'San Francisco International Airport',\n",
       "  'NA',\n",
       "  'airport',\n",
       "  37.615215,\n",
       "  -122.38988,\n",
       "  'large',\n",
       "  1)]"
      ]
     },
     "execution_count": 13,
     "metadata": {},
     "output_type": "execute_result"
    }
   ],
   "source": [
    "result"
   ]
  },
  {
   "cell_type": "code",
   "execution_count": 14,
   "metadata": {},
   "outputs": [],
   "source": [
    "result = cursor.execute(\"SELECT * FROM Airports WHERE iso='US'\")"
   ]
  },
  {
   "cell_type": "code",
   "execution_count": 15,
   "metadata": {},
   "outputs": [
    {
     "data": {
      "text/plain": [
       "('AYZ', 'US', \"Zahn's Airport\", 'NA', 'closed', None, None, None, 0)"
      ]
     },
     "execution_count": 15,
     "metadata": {},
     "output_type": "execute_result"
    }
   ],
   "source": [
    "us_airports = result.fetchall()\n",
    "# print(us_airports)\n",
    "us_airports[10]"
   ]
  },
  {
   "cell_type": "markdown",
   "metadata": {},
   "source": [
    "<a data-flickr-embed=\"true\"  href=\"https://www.flickr.com/photos/kirbyurner/5723981674/in/album-72157626755979299/\" title=\"Shops and Dining at PDX\"><img src=\"https://live.staticflickr.com/3310/5723981674_159335154b.jpg\" width=\"500\" height=\"375\" alt=\"Shops and Dining at PDX\"></a><script async src=\"//embedr.flickr.com/assets/client-code.js\" charset=\"utf-8\"></script>"
   ]
  },
  {
   "cell_type": "code",
   "execution_count": 16,
   "metadata": {},
   "outputs": [],
   "source": [
    "import sqlite3 as sql\n",
    "\n",
    "class Airport:\n",
    "    \"\"\"\n",
    "    Context Manage designed to retrieve data from airports.db \n",
    "    as a tuple, for use in scope.  The database remains open\n",
    "    until the scope is exited.\n",
    "    \"\"\"\n",
    "    \n",
    "    def __init__(self, code):\n",
    "        self.code = code # e.g. SFO, PDX...\n",
    "    \n",
    "    def __enter__(self):\n",
    "        self.connect = sql.connect(\"./data/airports.db\")\n",
    "        self.cursor  = self.connect.cursor()\n",
    "        # use a tuple to substitute into ? placeholders\n",
    "        results = self.cursor.execute(\n",
    "            \"SELECT * FROM Airports WHERE iata= ?\", (self.code,))\n",
    "        self.data = results.fetchall()\n",
    "        return self\n",
    "    \n",
    "    def __exit__(self, *oops):\n",
    "        # no error handling yet\n",
    "        self.connect.close()"
   ]
  },
  {
   "cell_type": "code",
   "execution_count": 17,
   "metadata": {},
   "outputs": [
    {
     "name": "stdout",
     "output_type": "stream",
     "text": [
      "[('PDX', 'US', 'Portland International Airport', 'NA', 'airport', 45.588997, -122.5929, 'large', 1)]\n",
      "indented part\n",
      "the context\n",
      "context\n"
     ]
    }
   ],
   "source": [
    "with Airport(\"PDX\") as airport:\n",
    "    print(airport.data)\n",
    "    print(\"indented part\")\n",
    "    print(\"the context\")\n",
    "print(\"context\")"
   ]
  },
  {
   "cell_type": "code",
   "execution_count": 18,
   "metadata": {},
   "outputs": [
    {
     "name": "stdout",
     "output_type": "stream",
     "text": [
      "[('PDX', 'US', 'Portland International Airport', 'NA', 'airport', 45.588997, -122.5929, 'large', 1)]\n"
     ]
    }
   ],
   "source": [
    "with Airport(\"PDX\") as airport:\n",
    "    print(airport.data)"
   ]
  },
  {
   "cell_type": "markdown",
   "metadata": {},
   "source": [
    "Note that the ```airport``` object keeps a live connection and cursor throughout the scope of the context."
   ]
  },
  {
   "cell_type": "code",
   "execution_count": 19,
   "metadata": {},
   "outputs": [
    {
     "name": "stdout",
     "output_type": "stream",
     "text": [
      "[('Portland International Airport',)]\n"
     ]
    }
   ],
   "source": [
    "with Airport(\"LAX\") as airport:\n",
    "    airport.cursor.execute(\n",
    "        \"SELECT name FROM Airports WHERE iata = ?\", \n",
    "        (\"PDX\",))  # or any arbitrary airport, just to show this degree of freedom\n",
    "    print(airport.cursor.fetchall())"
   ]
  },
  {
   "cell_type": "markdown",
   "metadata": {},
   "source": [
    "[Back to PyCampNextLevel Outline](PyCampNextLevel.ipynb)"
   ]
  }
 ],
 "metadata": {
  "kernelspec": {
   "display_name": "Python 3",
   "language": "python",
   "name": "python3"
  },
  "language_info": {
   "codemirror_mode": {
    "name": "ipython",
    "version": 3
   },
   "file_extension": ".py",
   "mimetype": "text/x-python",
   "name": "python",
   "nbconvert_exporter": "python",
   "pygments_lexer": "ipython3",
   "version": "3.7.4"
  }
 },
 "nbformat": 4,
 "nbformat_minor": 4
}
