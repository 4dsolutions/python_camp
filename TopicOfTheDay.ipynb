{
 "cells": [
  {
   "cell_type": "markdown",
   "metadata": {},
   "source": [
    "# The Platypus in Australia and Tasmania\n",
    "\n",
    "![picture of platypus](https://cdn.pixabay.com/photo/2013/07/13/14/00/duck-billed-platypus-161908_960_720.png)\n",
    "\n",
    "* [Wikipedia Article](https://en.wikipedia.org/wiki/Platypus)\n",
    "* [National Geographic](https://www.nationalgeographic.com/animals/mammals/p/platypus/)\n",
    "* [Livescience](https://www.livescience.com/27572-platypus.html)\n",
    "\n",
    "\n",
    "The <a href=\"http://www.itis.gov/servlet/SingleRpt/SingleRpt?search_topic=TSN&amp;search_value=552524\">taxonomy of the platypus</a>, according to the Integrated Taxonomic Information System (ITIS), is:</p><ul><li><strong>Kingdom</strong>: Animalia</li><li><strong>Phylum</strong>: Chordata</li><li><strong>Class</strong>: Mammalia&nbsp;</li><li><strong>Order</strong>: Monotremata &nbsp; &nbsp; &nbsp; &nbsp; &nbsp; &nbsp; &nbsp; &nbsp; &nbsp; &nbsp;</li><li><strong>Family</strong>: Ornithorhynchidae&nbsp;</li><li><strong>Genus and species</strong>:&nbsp;<em>Ornithorhynchus anatinus</em></li></ul>"
   ]
  },
  {
   "cell_type": "markdown",
   "metadata": {},
   "source": [
    "Lets add Platypoo, a platypus, to our database of users ```./data/users.db```"
   ]
  },
  {
   "cell_type": "code",
   "execution_count": 4,
   "metadata": {},
   "outputs": [],
   "source": [
    "import usercrud  # CREATE RETREIVE UPDATE DELETE"
   ]
  },
  {
   "cell_type": "code",
   "execution_count": 5,
   "metadata": {},
   "outputs": [
    {
     "data": {
      "text/plain": [
       "(('Charlie',\n",
       "  '4e388ab32b10dc8dbc7e28144f552830adc74787c1e2c0824032078a79f227fb'),)"
      ]
     },
     "execution_count": 5,
     "metadata": {},
     "output_type": "execute_result"
    }
   ],
   "source": [
    "usercrud.fetch_all()  # using interactively"
   ]
  },
  {
   "cell_type": "code",
   "execution_count": 6,
   "metadata": {},
   "outputs": [
    {
     "name": "stdout",
     "output_type": "stream",
     "text": [
      "Not found\n",
      "User added\n"
     ]
    }
   ],
   "source": [
    "usercrud.add_one(\"PlatyPoo\", \"luckyducky\")"
   ]
  },
  {
   "cell_type": "code",
   "execution_count": 7,
   "metadata": {},
   "outputs": [
    {
     "data": {
      "text/plain": [
       "(('Charlie',\n",
       "  '4e388ab32b10dc8dbc7e28144f552830adc74787c1e2c0824032078a79f227fb'),\n",
       " ('PlatyPoo',\n",
       "  'ea29ccc78c48cbff7e3a09445aa3c8ed3a59b75648af7dfe508b46d4f582ccd8'))"
      ]
     },
     "execution_count": 7,
     "metadata": {},
     "output_type": "execute_result"
    }
   ],
   "source": [
    "usercrud.fetch_all() "
   ]
  },
  {
   "cell_type": "code",
   "execution_count": 11,
   "metadata": {},
   "outputs": [
    {
     "name": "stdout",
     "output_type": "stream",
     "text": [
      "Charlie: 4e388ab32b10dc8dbc7e28144f552830adc74787c1e2c0824032078a79f227fb\n",
      "PlatyPoo: ea29ccc78c48cbff7e3a09445aa3c8ed3a59b75648af7dfe508b46d4f582ccd8\n"
     ]
    }
   ],
   "source": [
    "! python -m usercrud fetchall  # we can also use the command line"
   ]
  },
  {
   "cell_type": "code",
   "execution_count": 12,
   "metadata": {},
   "outputs": [
    {
     "name": "stdout",
     "output_type": "stream",
     "text": [
      "What is the password? : luckyducky\n",
      "Access Allowed!\n"
     ]
    }
   ],
   "source": [
    "usercrud.auth(\"PlatyPoo\")"
   ]
  },
  {
   "cell_type": "code",
   "execution_count": 1,
   "metadata": {},
   "outputs": [],
   "source": [
    "import animals"
   ]
  },
  {
   "cell_type": "code",
   "execution_count": 2,
   "metadata": {},
   "outputs": [],
   "source": [
    "pooplat = animals.Platypus(\"PooPlat\", 0.1)"
   ]
  },
  {
   "cell_type": "code",
   "execution_count": 3,
   "metadata": {},
   "outputs": [
    {
     "data": {
      "text/plain": [
       "Dog(\"PooPlat\", 0.1)"
      ]
     },
     "execution_count": 3,
     "metadata": {},
     "output_type": "execute_result"
    }
   ],
   "source": [
    "pooplat"
   ]
  },
  {
   "cell_type": "code",
   "execution_count": null,
   "metadata": {},
   "outputs": [],
   "source": []
  }
 ],
 "metadata": {
  "kernelspec": {
   "display_name": "Python 3",
   "language": "python",
   "name": "python3"
  },
  "language_info": {
   "codemirror_mode": {
    "name": "ipython",
    "version": 3
   },
   "file_extension": ".py",
   "mimetype": "text/x-python",
   "name": "python",
   "nbconvert_exporter": "python",
   "pygments_lexer": "ipython3",
   "version": "3.7.4"
  }
 },
 "nbformat": 4,
 "nbformat_minor": 4
}
