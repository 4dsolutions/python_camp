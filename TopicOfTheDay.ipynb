{
 "cells": [
  {
   "cell_type": "markdown",
   "metadata": {},
   "source": [
    "# The Platypus in Australia and Tasmania\n",
    "\n",
    "![picture of platypus](https://cdn.pixabay.com/photo/2013/07/13/14/00/duck-billed-platypus-161908_960_720.png)\n",
    "\n",
    "* [Wikipedia Article](https://en.wikipedia.org/wiki/Platypus)\n",
    "* [National Geographic](https://www.nationalgeographic.com/animals/mammals/p/platypus/)\n",
    "* [Livescience](https://www.livescience.com/27572-platypus.html)\n",
    "\n",
    "\n",
    "The <a href=\"http://www.itis.gov/servlet/SingleRpt/SingleRpt?search_topic=TSN&amp;search_value=552524\">taxonomy of the platypus</a>, according to the Integrated Taxonomic Information System (ITIS), is:</p><ul><li><strong>Kingdom</strong>: Animalia</li><li><strong>Phylum</strong>: Chordata</li><li><strong>Class</strong>: Mammalia&nbsp;</li><li><strong>Order</strong>: Monotremata &nbsp; &nbsp; &nbsp; &nbsp; &nbsp; &nbsp; &nbsp; &nbsp; &nbsp; &nbsp;</li><li><strong>Family</strong>: Ornithorhynchidae&nbsp;</li><li><strong>Genus and species</strong>:&nbsp;<em>Ornithorhynchus anatinus</em></li></ul>"
   ]
  },
  {
   "cell_type": "markdown",
   "metadata": {},
   "source": [
    "Lets add Platypoo, a platypus, to our database of users ```./data/users.db```"
   ]
  },
  {
   "cell_type": "code",
   "execution_count": 1,
   "metadata": {},
   "outputs": [],
   "source": [
    "import usercrud  # CREATE RETREIVE UPDATE DELETE"
   ]
  },
  {
   "cell_type": "code",
   "execution_count": 2,
   "metadata": {},
   "outputs": [
    {
     "data": {
      "text/plain": [
       "(('Kirby', 'b3c18129f841744d1e5483cdfb9ab276eae459f11ccf2a5a5e17ffc553c94b09'),\n",
       " ('Charlie',\n",
       "  '4e388ab32b10dc8dbc7e28144f552830adc74787c1e2c0824032078a79f227fb'),\n",
       " ('PlatyPoo',\n",
       "  'b9dd93d94a464856da8c0d68f982654815ecd9e3a15ba3905ecaced7a395bd40'))"
      ]
     },
     "execution_count": 2,
     "metadata": {},
     "output_type": "execute_result"
    }
   ],
   "source": [
    "usercrud.fetch_all()  # using interactively"
   ]
  },
  {
   "cell_type": "code",
   "execution_count": 3,
   "metadata": {},
   "outputs": [
    {
     "name": "stdout",
     "output_type": "stream",
     "text": [
      "User already exists\n"
     ]
    }
   ],
   "source": [
    "usercrud.add_one(\"PlatyPoo\", \"luckyducky\")"
   ]
  },
  {
   "cell_type": "code",
   "execution_count": 4,
   "metadata": {},
   "outputs": [
    {
     "data": {
      "text/plain": [
       "(('Kirby', 'b3c18129f841744d1e5483cdfb9ab276eae459f11ccf2a5a5e17ffc553c94b09'),\n",
       " ('Charlie',\n",
       "  '4e388ab32b10dc8dbc7e28144f552830adc74787c1e2c0824032078a79f227fb'),\n",
       " ('PlatyPoo',\n",
       "  'b9dd93d94a464856da8c0d68f982654815ecd9e3a15ba3905ecaced7a395bd40'))"
      ]
     },
     "execution_count": 4,
     "metadata": {},
     "output_type": "execute_result"
    }
   ],
   "source": [
    "usercrud.fetch_all() "
   ]
  },
  {
   "cell_type": "code",
   "execution_count": 5,
   "metadata": {},
   "outputs": [
    {
     "name": "stdout",
     "output_type": "stream",
     "text": [
      "Kirby: b3c18129f841744d1e5483cdfb9ab276eae459f11ccf2a5a5e17ffc553c94b09\n",
      "Charlie: 4e388ab32b10dc8dbc7e28144f552830adc74787c1e2c0824032078a79f227fb\n",
      "PlatyPoo: b9dd93d94a464856da8c0d68f982654815ecd9e3a15ba3905ecaced7a395bd40\n"
     ]
    }
   ],
   "source": [
    "! python -m usercrud fetchall  # we can also use the command line"
   ]
  },
  {
   "cell_type": "code",
   "execution_count": 6,
   "metadata": {},
   "outputs": [
    {
     "name": "stdout",
     "output_type": "stream",
     "text": [
      "Access Allowed!\n"
     ]
    }
   ],
   "source": [
    "usercrud.auth(\"PlatyPoo\", \"lucky!ducky\")"
   ]
  },
  {
   "cell_type": "code",
   "execution_count": 7,
   "metadata": {},
   "outputs": [],
   "source": [
    "import animals"
   ]
  },
  {
   "cell_type": "code",
   "execution_count": 8,
   "metadata": {},
   "outputs": [],
   "source": [
    "pooplat = animals.Platypus(\"PooPlat\", 0.1)"
   ]
  },
  {
   "cell_type": "code",
   "execution_count": 9,
   "metadata": {},
   "outputs": [
    {
     "data": {
      "text/plain": [
       "Platypus(\"PooPlat\", 0.1)"
      ]
     },
     "execution_count": 9,
     "metadata": {},
     "output_type": "execute_result"
    }
   ],
   "source": [
    "pooplat"
   ]
  }
 ],
 "metadata": {
  "kernelspec": {
   "display_name": "Python 3",
   "language": "python",
   "name": "python3"
  },
  "language_info": {
   "codemirror_mode": {
    "name": "ipython",
    "version": 3
   },
   "file_extension": ".py",
   "mimetype": "text/x-python",
   "name": "python",
   "nbconvert_exporter": "python",
   "pygments_lexer": "ipython3",
   "version": "3.7.4"
  }
 },
 "nbformat": 4,
 "nbformat_minor": 4
}
